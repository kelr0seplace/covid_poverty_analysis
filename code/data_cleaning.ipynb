{
 "cells": [
  {
   "cell_type": "code",
   "execution_count": 1,
   "id": "870cafec",
   "metadata": {
    "ExecuteTime": {
     "end_time": "2021-06-14T01:38:42.368832Z",
     "start_time": "2021-06-14T01:38:41.811266Z"
    }
   },
   "outputs": [],
   "source": [
    "import pandas as pd\n",
    "import numpy as np"
   ]
  },
  {
   "cell_type": "markdown",
   "id": "bab465c6-7a59-425b-b4b4-6fd9fa8e76af",
   "metadata": {},
   "source": [
    "## Cleaning Census Data"
   ]
  },
  {
   "cell_type": "code",
   "execution_count": 2,
   "id": "c19023db",
   "metadata": {
    "ExecuteTime": {
     "end_time": "2021-06-14T01:38:42.531118Z",
     "start_time": "2021-06-14T01:38:42.370759Z"
    }
   },
   "outputs": [],
   "source": [
    "census = pd.read_csv('../data/census_bureau_acs_county_2018_5yr.csv')"
   ]
  },
  {
   "cell_type": "code",
   "execution_count": 3,
   "id": "cfdd2c88-d4c7-48f6-8e43-13ea1192b977",
   "metadata": {
    "ExecuteTime": {
     "end_time": "2021-06-14T01:38:42.543308Z",
     "start_time": "2021-06-14T01:38:42.533714Z"
    }
   },
   "outputs": [
    {
     "data": {
      "text/plain": [
       "(3220, 242)"
      ]
     },
     "execution_count": 3,
     "metadata": {},
     "output_type": "execute_result"
    }
   ],
   "source": [
    "census.shape"
   ]
  },
  {
   "cell_type": "code",
   "execution_count": 4,
   "id": "6f7620c6",
   "metadata": {
    "ExecuteTime": {
     "end_time": "2021-06-14T01:38:42.558807Z",
     "start_time": "2021-06-14T01:38:42.547503Z"
    }
   },
   "outputs": [
    {
     "data": {
      "text/plain": [
       "speak_spanish_at_home_low_english     3220\n",
       "pop_divorced                          3220\n",
       "pop_5_years_over                      3220\n",
       "pop_15_and_over                       3220\n",
       "pop_never_married                     3220\n",
       "pop_now_married                       3220\n",
       "pop_widowed                           3220\n",
       "pop_separated                         3220\n",
       "speak_spanish_at_home                 3220\n",
       "speak_only_english_at_home            3220\n",
       "aggregate_travel_time_to_work          158\n",
       "some_college_and_associates_degree      79\n",
       "dtype: int64"
      ]
     },
     "execution_count": 4,
     "metadata": {},
     "output_type": "execute_result"
    }
   ],
   "source": [
    "census.isnull().sum().sort_values(ascending=False)[:12]"
   ]
  },
  {
   "cell_type": "code",
   "execution_count": 5,
   "id": "a44cfa60",
   "metadata": {
    "ExecuteTime": {
     "end_time": "2021-06-14T01:38:42.681610Z",
     "start_time": "2021-06-14T01:38:42.563209Z"
    }
   },
   "outputs": [],
   "source": [
    "for col in census.columns:\n",
    "    if census[col].isna().sum() > 100:\n",
    "        census.drop(columns=col, inplace=True)"
   ]
  },
  {
   "cell_type": "markdown",
   "id": "58c76a53-3298-449d-b9ee-1456024a7313",
   "metadata": {},
   "source": [
    "**Interpretation:** We dont want any columns with greater than 100 null values"
   ]
  },
  {
   "cell_type": "code",
   "execution_count": 6,
   "id": "9d6e9baa",
   "metadata": {
    "ExecuteTime": {
     "end_time": "2021-06-14T01:38:42.692633Z",
     "start_time": "2021-06-14T01:38:42.684289Z"
    }
   },
   "outputs": [
    {
     "data": {
      "text/plain": [
       "high_school_including_ged                                      79\n",
       "less_than_high_school_graduate                                 79\n",
       "bachelors_degree_2                                             79\n",
       "some_college_and_associates_degree                             79\n",
       "different_house_year_ago_same_city                             79\n",
       "different_house_year_ago_different_city                        79\n",
       "graduate_professional_degree                                   79\n",
       "population_1_year_and_over                                     79\n",
       "not_us_citizen_pop                                             78\n",
       "owner_occupied_housing_units_lower_value_quartile               5\n",
       "renter_occupied_housing_units_paying_cash_median_gross_rent     3\n",
       "dtype: int64"
      ]
     },
     "execution_count": 6,
     "metadata": {},
     "output_type": "execute_result"
    }
   ],
   "source": [
    "census.isnull().sum().sort_values(ascending=False)[:11]"
   ]
  },
  {
   "cell_type": "code",
   "execution_count": 7,
   "id": "76ad1983",
   "metadata": {
    "ExecuteTime": {
     "end_time": "2021-06-14T01:38:42.707495Z",
     "start_time": "2021-06-14T01:38:42.694597Z"
    }
   },
   "outputs": [],
   "source": [
    "census.dropna(inplace=True)"
   ]
  },
  {
   "cell_type": "markdown",
   "id": "6406b644-d5fa-4b53-b795-b0ede39d6f59",
   "metadata": {},
   "source": [
    "**Interpretation:** We will use some of these columns in our modeling so we drop the rows instead."
   ]
  },
  {
   "cell_type": "code",
   "execution_count": 8,
   "id": "83f71868",
   "metadata": {
    "ExecuteTime": {
     "end_time": "2021-06-14T01:38:42.717104Z",
     "start_time": "2021-06-14T01:38:42.711728Z"
    }
   },
   "outputs": [
    {
     "data": {
      "text/plain": [
       "(3133, 231)"
      ]
     },
     "execution_count": 8,
     "metadata": {},
     "output_type": "execute_result"
    }
   ],
   "source": [
    "census.shape"
   ]
  },
  {
   "cell_type": "markdown",
   "id": "c206cd33-ecf9-4e9c-8538-0ec262978cb7",
   "metadata": {},
   "source": [
    "**Interpretation:** We lost 87 rows or 2.7% of our rows and 11 columns or 4.5% of our columns."
   ]
  },
  {
   "cell_type": "markdown",
   "id": "b248cedf-5cbb-46f7-af76-c6cc4a7e0c5f",
   "metadata": {},
   "source": [
    "#### Feature Normalization\n",
    "Many of the columns in this dataset are total numbers. They need to be normalized as percentages of totals before being modeled on."
   ]
  },
  {
   "cell_type": "code",
   "execution_count": 9,
   "id": "49d016ed-41b6-47cb-bc7a-5bfaed261634",
   "metadata": {
    "ExecuteTime": {
     "end_time": "2021-06-14T01:38:42.772871Z",
     "start_time": "2021-06-14T01:38:42.725417Z"
    }
   },
   "outputs": [],
   "source": [
    "census['pct_nonfamily_house'] = census['nonfamily_households'] / census['households']\n",
    "census['pct_family_house'] = census['family_households'] / census['households']\n",
    "census['pct_male_male_households'] = census['male_male_households'] / census['households']\n",
    "census['pct_female_female_households'] = census['female_female_households'] / census['households']\n",
    "\n",
    "census['pct_male'] = census['male_pop'] / census['total_pop']\n",
    "census['pct_female'] = census['female_pop'] / census['total_pop']\n",
    "census['pct_white'] = census['white_pop'] / census['total_pop']\n",
    "census['pct_black'] = census['black_pop'] / census['total_pop']\n",
    "census['pct_asian'] = census['asian_pop'] / census['total_pop']\n",
    "census['pct_hispanic'] = census['hispanic_pop'] / census['total_pop']\n",
    "census['pct_amerindian'] = census['amerindian_pop'] / census['total_pop']\n",
    "census['pct_other_race'] = census['other_race_pop'] / census['total_pop']\n",
    "census['pct_two_or_more_races'] = census['two_or_more_races_pop'] / census['total_pop']\n",
    "census['pct_commuters_by_public_transportation'] = census['commuters_by_public_transportation'] / census['total_pop']\n",
    "\n",
    "census['pop_per_housing_unit'] = census['total_pop'] / census['housing_units'] \n",
    "census['pct_armed_forces'] = census['armed_forces'] / census['total_pop']\n",
    "census['pct_employed'] = census['employed_pop'] / census['total_pop']\n",
    "census['pct_bachelors_degree_or_higher_25_64'] = census['bachelors_degree_or_higher_25_64'] / census['total_pop']\n",
    "census['pct_children'] = census['children'] / census['total_pop']\n",
    "census['pct_employed_education_health_social'] = census['employed_education_health_social'] / census['total_pop']\n",
    "census['pct_not_us_citizen_pop'] = census['not_us_citizen_pop'] / census['total_pop']\n",
    "census['pct_not_hispanic'] = census['not_hispanic_pop'] / census['total_pop']\n",
    "\n",
    "census['poverty_rate'] = census['poverty'] / census['pop_determined_poverty_status']"
   ]
  },
  {
   "cell_type": "markdown",
   "id": "bae79e9c",
   "metadata": {},
   "source": [
    "## Clean data from healthcare per county"
   ]
  },
  {
   "cell_type": "code",
   "execution_count": 10,
   "id": "b97ad0c7",
   "metadata": {
    "ExecuteTime": {
     "end_time": "2021-06-14T01:38:42.803151Z",
     "start_time": "2021-06-14T01:38:42.774700Z"
    }
   },
   "outputs": [],
   "source": [
    "healthcare = pd.read_csv('../data/us_healthcare_capacity-county-CovidCareMap.csv')"
   ]
  },
  {
   "cell_type": "code",
   "execution_count": 11,
   "id": "da46effc",
   "metadata": {
    "ExecuteTime": {
     "end_time": "2021-06-14T01:38:42.813255Z",
     "start_time": "2021-06-14T01:38:42.805750Z"
    }
   },
   "outputs": [],
   "source": [
    "healthcare.columns = [col.lower().replace(' ', '_') for col in healthcare.columns]"
   ]
  },
  {
   "cell_type": "code",
   "execution_count": 12,
   "id": "2450f158",
   "metadata": {
    "ExecuteTime": {
     "end_time": "2021-06-14T01:38:42.821467Z",
     "start_time": "2021-06-14T01:38:42.816868Z"
    }
   },
   "outputs": [
    {
     "data": {
      "text/plain": [
       "(2537, 22)"
      ]
     },
     "execution_count": 12,
     "metadata": {},
     "output_type": "execute_result"
    }
   ],
   "source": [
    "healthcare.shape"
   ]
  },
  {
   "cell_type": "code",
   "execution_count": 13,
   "id": "535ed893",
   "metadata": {
    "ExecuteTime": {
     "end_time": "2021-06-14T01:38:42.835391Z",
     "start_time": "2021-06-14T01:38:42.823799Z"
    }
   },
   "outputs": [
    {
     "data": {
      "text/plain": [
       "icu_bed_source_last_updated                   2535\n",
       "icu_bed_occupancy_rate                        1127\n",
       "all_bed_occupancy_rate                          77\n",
       "staffed_all_beds_[per_1000_adults_(20+)]        28\n",
       "licensed_all_beds_[per_1000_elderly_(65+)]      28\n",
       "licensed_all_beds_[per_1000_adults_(20+)]       28\n",
       "licensed_all_beds_[per_1000_people]             28\n",
       "staffed_icu_beds_[per_1000_elderly_(65+)]       28\n",
       "staffed_icu_beds_[per_1000_adults_(20+)]        28\n",
       "staffed_icu_beds_[per_1000_people]              28\n",
       "staffed_all_beds_[per_1000_elderly_(65+)]       28\n",
       "staffed_all_beds_[per_1000_people]              28\n",
       "state                                            0\n",
       "dtype: int64"
      ]
     },
     "execution_count": 13,
     "metadata": {},
     "output_type": "execute_result"
    }
   ],
   "source": [
    "healthcare.isnull().sum().sort_values(ascending=False)[:13]"
   ]
  },
  {
   "cell_type": "code",
   "execution_count": 14,
   "id": "065c4bed",
   "metadata": {
    "ExecuteTime": {
     "end_time": "2021-06-14T01:38:42.852081Z",
     "start_time": "2021-06-14T01:38:42.837159Z"
    }
   },
   "outputs": [],
   "source": [
    "for col in healthcare.columns:\n",
    "    if healthcare[col].isna().sum() > 100:\n",
    "        healthcare.drop(columns=col, inplace=True)"
   ]
  },
  {
   "cell_type": "markdown",
   "id": "1189eb0b-dec3-41e9-aa99-5b5e60c350e5",
   "metadata": {},
   "source": [
    "**Interpretation:** We dont want any columns with greater than 100 null values"
   ]
  },
  {
   "cell_type": "code",
   "execution_count": 15,
   "id": "d320c847-bc77-415b-9650-de1217d6be2a",
   "metadata": {
    "ExecuteTime": {
     "end_time": "2021-06-14T01:38:42.859217Z",
     "start_time": "2021-06-14T01:38:42.853905Z"
    }
   },
   "outputs": [],
   "source": [
    "occupancy_rate_mean = round(healthcare['all_bed_occupancy_rate'].mean(), 2)"
   ]
  },
  {
   "cell_type": "code",
   "execution_count": 16,
   "id": "a9efd568",
   "metadata": {
    "ExecuteTime": {
     "end_time": "2021-06-14T01:38:42.868355Z",
     "start_time": "2021-06-14T01:38:42.861633Z"
    }
   },
   "outputs": [],
   "source": [
    "healthcare['all_bed_occupancy_rate'].fillna(occupancy_rate_mean, inplace=True)"
   ]
  },
  {
   "cell_type": "code",
   "execution_count": 17,
   "id": "be7c407c-aa78-4893-918e-97f0c9fc01a9",
   "metadata": {
    "ExecuteTime": {
     "end_time": "2021-06-14T01:38:42.886200Z",
     "start_time": "2021-06-14T01:38:42.871800Z"
    }
   },
   "outputs": [],
   "source": [
    "healthcare.dropna(inplace=True)"
   ]
  },
  {
   "cell_type": "markdown",
   "id": "2342f213-5b1d-457e-a920-b3e5513c0d3b",
   "metadata": {},
   "source": [
    "**Interpretation:** We will use all bed occupancy rate in our models so we impute the mean. The other rows are dropped."
   ]
  },
  {
   "cell_type": "code",
   "execution_count": 18,
   "id": "9badb68c-d220-4a94-a9a5-f06cef429da7",
   "metadata": {
    "ExecuteTime": {
     "end_time": "2021-06-14T01:38:42.899071Z",
     "start_time": "2021-06-14T01:38:42.891403Z"
    }
   },
   "outputs": [
    {
     "data": {
      "text/plain": [
       "0    2016\n",
       "1    2020\n",
       "2    2050\n",
       "3    2070\n",
       "4    2090\n",
       "5    2110\n",
       "6    2122\n",
       "7    2130\n",
       "8    2150\n",
       "9    2170\n",
       "Name: fips_code, dtype: int64"
      ]
     },
     "execution_count": 18,
     "metadata": {},
     "output_type": "execute_result"
    }
   ],
   "source": [
    "healthcare['fips_code'][:10]"
   ]
  },
  {
   "cell_type": "code",
   "execution_count": 19,
   "id": "e4c32297",
   "metadata": {
    "ExecuteTime": {
     "end_time": "2021-06-14T01:38:42.904900Z",
     "start_time": "2021-06-14T01:38:42.901797Z"
    }
   },
   "outputs": [],
   "source": [
    "# add leading zeros for 4 digit fips\n",
    "# healthcare['fips_code'] = healthcare['fips_code'].apply(lambda x: str(int(x)).zfill(5))"
   ]
  },
  {
   "cell_type": "markdown",
   "id": "dadfdf22-4399-400d-8c34-989d2ca2357b",
   "metadata": {},
   "source": [
    "**Interpretation:** Without this leading zero many counties would not merge with our other datasets."
   ]
  },
  {
   "cell_type": "markdown",
   "id": "de154dc1",
   "metadata": {},
   "source": [
    "## Clean NYT Covid Death data"
   ]
  },
  {
   "cell_type": "code",
   "execution_count": 20,
   "id": "c05844aa",
   "metadata": {
    "ExecuteTime": {
     "end_time": "2021-06-14T01:38:43.807356Z",
     "start_time": "2021-06-14T01:38:42.913146Z"
    }
   },
   "outputs": [],
   "source": [
    "covid = pd.read_csv('../data/covid19_nyt_us_counties.csv')"
   ]
  },
  {
   "cell_type": "code",
   "execution_count": 21,
   "id": "8a3ed7f7",
   "metadata": {
    "ExecuteTime": {
     "end_time": "2021-06-14T01:38:43.813814Z",
     "start_time": "2021-06-14T01:38:43.809197Z"
    }
   },
   "outputs": [
    {
     "data": {
      "text/plain": [
       "(1384683, 6)"
      ]
     },
     "execution_count": 21,
     "metadata": {},
     "output_type": "execute_result"
    }
   ],
   "source": [
    "covid.shape"
   ]
  },
  {
   "cell_type": "code",
   "execution_count": 22,
   "id": "3da27a43",
   "metadata": {
    "ExecuteTime": {
     "end_time": "2021-06-14T01:38:45.456935Z",
     "start_time": "2021-06-14T01:38:43.817894Z"
    }
   },
   "outputs": [],
   "source": [
    "covid = covid.groupby('county_fips_code').max()"
   ]
  },
  {
   "cell_type": "markdown",
   "id": "5e9a43b5-6f19-47a9-801a-5c1bf5578e0b",
   "metadata": {},
   "source": [
    "**Interpretation:** This will give us the most recent covid information for each county which is from 6/3"
   ]
  },
  {
   "cell_type": "code",
   "execution_count": 23,
   "id": "4fbd3188-0f3c-4c83-a033-baaa3c2bb0b7",
   "metadata": {
    "ExecuteTime": {
     "end_time": "2021-06-14T01:38:45.469572Z",
     "start_time": "2021-06-14T01:38:45.465295Z"
    }
   },
   "outputs": [],
   "source": [
    "covid['death_rate'] = covid['deaths']/covid['confirmed_cases']"
   ]
  },
  {
   "cell_type": "markdown",
   "id": "8597a030-3dd1-4305-a4e8-6f0e7f77d95c",
   "metadata": {},
   "source": [
    "**Interpretation:** We want to look at deaths rates not total deaths"
   ]
  },
  {
   "cell_type": "code",
   "execution_count": 24,
   "id": "919d3bc4",
   "metadata": {
    "ExecuteTime": {
     "end_time": "2021-06-14T01:38:45.476581Z",
     "start_time": "2021-06-14T01:38:45.472778Z"
    }
   },
   "outputs": [],
   "source": [
    "census.set_index('geo_id', inplace=True)"
   ]
  },
  {
   "cell_type": "code",
   "execution_count": 25,
   "id": "913c26fa-2aed-4a19-bd41-8929aa0ea7c4",
   "metadata": {
    "ExecuteTime": {
     "end_time": "2021-06-14T01:38:45.483262Z",
     "start_time": "2021-06-14T01:38:45.479124Z"
    }
   },
   "outputs": [],
   "source": [
    "healthcare.set_index('fips_code', inplace=True)"
   ]
  },
  {
   "cell_type": "code",
   "execution_count": 26,
   "id": "58191e14",
   "metadata": {
    "ExecuteTime": {
     "end_time": "2021-06-14T01:38:45.503649Z",
     "start_time": "2021-06-14T01:38:45.485447Z"
    }
   },
   "outputs": [],
   "source": [
    "df = covid.merge(census, left_index = True, right_index=True)"
   ]
  },
  {
   "cell_type": "code",
   "execution_count": 27,
   "id": "513b1de1-f7a4-47ac-958e-6dc465dc5679",
   "metadata": {
    "ExecuteTime": {
     "end_time": "2021-06-14T01:38:45.524797Z",
     "start_time": "2021-06-14T01:38:45.506047Z"
    }
   },
   "outputs": [],
   "source": [
    "df = df.merge(healthcare, left_index = True, right_index=True)"
   ]
  },
  {
   "cell_type": "code",
   "execution_count": 28,
   "id": "fbdc604a-8012-4da5-a25c-e4fc1e0eca5d",
   "metadata": {
    "ExecuteTime": {
     "end_time": "2021-06-14T01:38:45.531903Z",
     "start_time": "2021-06-14T01:38:45.526667Z"
    }
   },
   "outputs": [
    {
     "data": {
      "text/plain": [
       "((2503, 278), (3133, 253), (2509, 19), (3218, 6))"
      ]
     },
     "execution_count": 28,
     "metadata": {},
     "output_type": "execute_result"
    }
   ],
   "source": [
    "df.shape, census.shape, healthcare.shape, covid.shape"
   ]
  },
  {
   "cell_type": "code",
   "execution_count": 29,
   "id": "0d4aad20",
   "metadata": {
    "ExecuteTime": {
     "end_time": "2021-06-14T01:38:45.543471Z",
     "start_time": "2021-06-14T01:38:45.534515Z"
    }
   },
   "outputs": [],
   "source": [
    "df['date'] = pd.to_datetime(df['date'])\n",
    "df['do_date'] = pd.to_datetime(df['do_date'])"
   ]
  },
  {
   "cell_type": "code",
   "execution_count": 30,
   "id": "1f104e5a-350b-47d9-8dd9-17bd163e0bd8",
   "metadata": {
    "ExecuteTime": {
     "end_time": "2021-06-14T01:38:46.253144Z",
     "start_time": "2021-06-14T01:38:45.545314Z"
    }
   },
   "outputs": [],
   "source": [
    "df.to_csv('../data/cleaned_merged_df.csv')"
   ]
  }
 ],
 "metadata": {
  "kernelspec": {
   "display_name": "Python 3",
   "language": "python",
   "name": "python3"
  },
  "language_info": {
   "codemirror_mode": {
    "name": "ipython",
    "version": 3
   },
   "file_extension": ".py",
   "mimetype": "text/x-python",
   "name": "python",
   "nbconvert_exporter": "python",
   "pygments_lexer": "ipython3",
   "version": "3.9.2"
  }
 },
 "nbformat": 4,
 "nbformat_minor": 5
}
